{
 "cells": [
  {
   "cell_type": "code",
   "execution_count": 22,
   "metadata": {},
   "outputs": [
    {
     "data": {
      "application/vnd.jupyter.widget-view+json": {
       "model_id": "bf74b75a3f104ca78368d945cfbaba84",
       "version_major": 2,
       "version_minor": 0
      },
      "text/plain": [
       "interactive(children=(FloatSlider(value=0.95, description='b1', max=1.0, min=-1.0, step=0.01), Output()), _dom…"
      ]
     },
     "metadata": {},
     "output_type": "display_data"
    }
   ],
   "source": [
    "\n",
    "import numpy as np\n",
    "from matplotlib import pyplot as plt\n",
    "import ipywidgets as widgets\n",
    "\n",
    "tof = np.load(\"30cmTrial1.npy\")\n",
    "\n",
    "def gating(x):\n",
    "    var = np.var(x)\n",
    "    mean = np.mean(x)\n",
    "    x[x > mean + np.sqrt(var)] = mean\n",
    "    return x\n",
    "\n",
    "def feedbackFilter(x, a0, b1):\n",
    "    y = np.zeros_like(x)\n",
    "    y[0] = x[0]\n",
    "    for i in range(1, len(x)):\n",
    "        y[i] = a0 * x[i] + b1 * y[i-1]\n",
    "    return y\n",
    "\n",
    "def secondOrderFilter(x, a0, a1, b1, b2):\n",
    "    y = np.zeros_like(x)\n",
    "    y[0] = x[0]\n",
    "    y[1] = a0 * x[1] + a1 * x[0] + b1 * y[0]\n",
    "    for i in range(2, len(x)):\n",
    "        y[i] = a0 * x[i] + a1 * x[i-1] + b1 * y[i-1] + b2 * y[i-2]\n",
    "    return y\n",
    "\n",
    "\n",
    "\n",
    "@widgets.interact(b1=widgets.FloatSlider(min=-1.0, max=1.0, step=0.01, value=0.95))\n",
    "def execute(b1=0.95):\n",
    "    x = gating(tof[18,0,:])\n",
    "    #x = tof[18,0,:]\n",
    "    filtered_tof = feedbackFilter(x, 1.0 - b1, b1)\n",
    "    a1 = 0.1\n",
    "    b2 = 0.1\n",
    "    filtered_tof_2 = secondOrderFilter(x, 1.0 - b1 - a1, a1, b1 - b2, b2)\n",
    "    \n",
    "    fig, axes = plt.subplots(1, 2, figsize=(16,6))\n",
    "    ax = axes[0]\n",
    "    ax.plot(np.arange(tof.shape[2]), x, label=\"Channel 0\")\n",
    "    ax.plot(np.arange(tof.shape[2]), filtered_tof, label=\"Channel 1\")\n",
    "    ax.plot(np.arange(tof.shape[2]), filtered_tof_2, label=\"Channel 1\")\n",
    "    ax.plot(np.mean(x), label=\"Mean\")\n",
    "\n",
    "    plt.show\n",
    "\n"
   ]
  }
 ],
 "metadata": {
  "kernelspec": {
   "display_name": "Python 3",
   "language": "python",
   "name": "python3"
  },
  "language_info": {
   "codemirror_mode": {
    "name": "ipython",
    "version": 3
   },
   "file_extension": ".py",
   "mimetype": "text/x-python",
   "name": "python",
   "nbconvert_exporter": "python",
   "pygments_lexer": "ipython3",
   "version": "3.8.10"
  }
 },
 "nbformat": 4,
 "nbformat_minor": 2
}
